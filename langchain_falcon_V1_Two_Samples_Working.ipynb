{
 "cells": [
  {
   "attachments": {},
   "cell_type": "markdown",
   "metadata": {},
   "source": [
    "<a target=\"_blank\" href=\"https://colab.research.google.com/github/sudarshan-koirala/langchain-falcon-chainlit/blob/main/langchain_falcon.ipynb\">\n",
    "  <img src=\"https://colab.research.google.com/assets/colab-badge.svg\" alt=\"Open In Colab\"/>\n",
    "</a>"
   ]
  },
  {
   "cell_type": "code",
   "execution_count": 1,
   "metadata": {},
   "outputs": [],
   "source": [
    "# USE CASE:   INDEPEDENT -- NOT LINKED YET \n",
    "#   TEXT  (YouTube Example = https://www.youtube.com/watch?v=gnyUUY8X-G4)   \n",
    "# + VIDEO (https://huggingface.co/learn/audio-course/chapter6/pre-trained_models)\n",
    "\n",
    "%%capture\n",
    "%pip install langchain huggingface_hub watermark"
   ]
  },
  {
   "cell_type": "code",
   "execution_count": 2,
   "metadata": {},
   "outputs": [
    {
     "name": "stdout",
     "output_type": "stream",
     "text": [
      "Author: b oldright\n",
      "\n",
      "Python implementation: CPython\n",
      "Python version       : 3.10.8\n",
      "IPython version      : 8.16.1\n",
      "\n",
      "langchain      : 0.0.324\n",
      "huggingface_hub: 0.18.0\n",
      "\n",
      "Compiler    : GCC 9.4.0\n",
      "OS          : Linux\n",
      "Release     : 6.2.0-1015-azure\n",
      "Machine     : x86_64\n",
      "Processor   : x86_64\n",
      "CPU cores   : 2\n",
      "Architecture: 64bit\n",
      "\n"
     ]
    }
   ],
   "source": [
    "\n",
    "%load_ext watermark\n",
    "%watermark -a \"b oldright\" -vmp langchain,huggingface_hub"
   ]
  },
  {
   "cell_type": "code",
   "execution_count": 3,
   "metadata": {},
   "outputs": [],
   "source": [
    "# get your Huggingface access token from https://huggingface.co/settings/tokens 🔑\n",
    "from getpass import getpass\n",
    "import os\n",
    "\n",
    "HUGGINGFACE_API_TOKEN = getpass()\n",
    "os.environ[\"HUGGINGFACE_API_TOKEN\"] = HUGGINGFACE_API_TOKEN   "
   ]
  },
  {
   "attachments": {},
   "cell_type": "markdown",
   "metadata": {},
   "source": [
    "#### Let's use falcon-7b-instruct model from [Huggingface website](https://huggingface.co/tiiuae/falcon-7b-instruct)"
   ]
  },
  {
   "cell_type": "code",
   "execution_count": 4,
   "metadata": {},
   "outputs": [
    {
     "name": "stderr",
     "output_type": "stream",
     "text": [
      "/workspaces/falcon-main/.venv/lib/python3.10/site-packages/tqdm/auto.py:21: TqdmWarning: IProgress not found. Please update jupyter and ipywidgets. See https://ipywidgets.readthedocs.io/en/stable/user_install.html\n",
      "  from .autonotebook import tqdm as notebook_tqdm\n",
      "/workspaces/falcon-main/.venv/lib/python3.10/site-packages/huggingface_hub/utils/_deprecation.py:127: FutureWarning: '__init__' (from 'huggingface_hub.inference_api') is deprecated and will be removed from version '0.19.0'. `InferenceApi` client is deprecated in favor of the more feature-complete `InferenceClient`. Check out this guide to learn how to convert your script to use it: https://huggingface.co/docs/huggingface_hub/guides/inference#legacy-inferenceapi-client.\n",
      "  warnings.warn(warning_message, FutureWarning)\n"
     ]
    }
   ],
   "source": [
    "from langchain import HuggingFaceHub\n",
    "\n",
    "repo_id = \"tiiuae/falcon-7b-instruct\"\n",
    "llm = HuggingFaceHub(huggingfacehub_api_token=HUGGINGFACE_API_TOKEN, \n",
    "                     repo_id=repo_id, \n",
    "                     model_kwargs={\"temperature\":0.7, \"max_new_tokens\":700})"
   ]
  },
  {
   "cell_type": "code",
   "execution_count": 5,
   "metadata": {},
   "outputs": [
    {
     "name": "stdout",
     "output_type": "stream",
     "text": [
      "\n",
      "1. Preheat your oven at the desired temperature for the specific type of pizza you want to make.\n",
      "2. Roll out your dough on a baking sheet or pizza stone.\n",
      "3. Spread your favorite pizza sauce on the dough.\n",
      "4. Add your desired amount of cheese.\n",
      "5. Place your toppings on the pizza and bake for the amount of time recommended on the recipe.\n",
      "6. Remove the pizza from the oven and let it cool before slicing. \n",
      "7. Enjoy your delicious pizza!\n",
      "\n",
      "I hope this helps!\n"
     ]
    }
   ],
   "source": [
    "from langchain import PromptTemplate, LLMChain\n",
    "\n",
    "template = \"\"\"\n",
    "You are a helpful AI assistant and provide the answer for the question asked politely.\n",
    "\n",
    "{question}\n",
    "Answer: Let's think step by step.\n",
    "\"\"\"\n",
    "prompt = PromptTemplate(template=template, input_variables=[\"question\"])\n",
    "llm_chain = LLMChain(prompt=prompt, llm=llm)\n",
    "\n",
    "question = \"How to cook Pizza ?\"\n",
    "\n",
    "print(llm_chain.run(question))"
   ]
  },
  {
   "cell_type": "code",
   "execution_count": null,
   "metadata": {},
   "outputs": [],
   "source": [
    "# VOICE ASSISTANT  https://huggingface.co/learn/audio-course/chapter7/voice-assistant\n",
    "\n",
    "# Voice assistants are constantly listening to the audio inputs coming through your device’s microphone, \n",
    "# however they only boot into action when a particular ‘wake word’ or ‘trigger word’ is spoken.\n",
    "\n",
    "# WAKE WORD DETECTION\n",
    "# It can be run continuously on your device without draining your battery. \n",
    "# Only when the wake word is detected is when larger speech recognition model launched, and afterwards it is shut down again\n",
    "\n",
    "# Speech transcription\n",
    "# goal -> transcribe the spoken query to text\n",
    "\n",
    "# transferring audio files is slow (due nature)\n",
    "# so -> transcribe them directly using an automatic speech recognition (ASR) model on-device "
   ]
  },
  {
   "cell_type": "code",
   "execution_count": null,
   "metadata": {},
   "outputs": [],
   "source": [
    "# From Text to AUDIO -> https://huggingface.co/learn/audio-course/chapter6/pre-trained_models \n",
    "\n",
    "# INSTALL sentence piece https://github.com/google/sentencepiece#installation \n",
    "\n",
    "# INSTALL https://pytorch.org/get-started/locally/ \n"
   ]
  },
  {
   "cell_type": "code",
   "execution_count": 7,
   "metadata": {},
   "outputs": [
    {
     "name": "stdout",
     "output_type": "stream",
     "text": [
      "Collecting transformers\n",
      "  Downloading transformers-4.34.1-py3-none-any.whl.metadata (121 kB)\n",
      "\u001b[2K     \u001b[90m━━━━━━━━━━━━━━━━━━━━━━━━━━━━━━━━━━━━━━━\u001b[0m \u001b[32m121.5/121.5 kB\u001b[0m \u001b[31m2.3 MB/s\u001b[0m eta \u001b[36m0:00:00\u001b[0ma \u001b[36m0:00:01\u001b[0m\n",
      "\u001b[?25hRequirement already satisfied: filelock in ./.venv/lib/python3.10/site-packages (from transformers) (3.12.4)\n",
      "Requirement already satisfied: huggingface-hub<1.0,>=0.16.4 in ./.venv/lib/python3.10/site-packages (from transformers) (0.18.0)\n",
      "Requirement already satisfied: numpy>=1.17 in ./.venv/lib/python3.10/site-packages (from transformers) (1.26.1)\n",
      "Requirement already satisfied: packaging>=20.0 in ./.venv/lib/python3.10/site-packages (from transformers) (23.2)\n",
      "Requirement already satisfied: pyyaml>=5.1 in ./.venv/lib/python3.10/site-packages (from transformers) (6.0.1)\n",
      "Collecting regex!=2019.12.17 (from transformers)\n",
      "  Downloading regex-2023.10.3-cp310-cp310-manylinux_2_17_x86_64.manylinux2014_x86_64.whl.metadata (40 kB)\n",
      "\u001b[2K     \u001b[90m━━━━━━━━━━━━━━━━━━━━━━━━━━━━━━━━━━━━━━━\u001b[0m \u001b[32m40.9/40.9 kB\u001b[0m \u001b[31m862.5 kB/s\u001b[0m eta \u001b[36m0:00:00\u001b[0ma \u001b[36m0:00:01\u001b[0m\n",
      "\u001b[?25hRequirement already satisfied: requests in ./.venv/lib/python3.10/site-packages (from transformers) (2.31.0)\n",
      "Collecting tokenizers<0.15,>=0.14 (from transformers)\n",
      "  Downloading tokenizers-0.14.1-cp310-cp310-manylinux_2_17_x86_64.manylinux2014_x86_64.whl.metadata (6.7 kB)\n",
      "Collecting safetensors>=0.3.1 (from transformers)\n",
      "  Downloading safetensors-0.4.0-cp310-cp310-manylinux_2_17_x86_64.manylinux2014_x86_64.whl.metadata (3.8 kB)\n",
      "Requirement already satisfied: tqdm>=4.27 in ./.venv/lib/python3.10/site-packages (from transformers) (4.66.1)\n",
      "Requirement already satisfied: fsspec>=2023.5.0 in ./.venv/lib/python3.10/site-packages (from huggingface-hub<1.0,>=0.16.4->transformers) (2023.10.0)\n",
      "Requirement already satisfied: typing-extensions>=3.7.4.3 in ./.venv/lib/python3.10/site-packages (from huggingface-hub<1.0,>=0.16.4->transformers) (4.8.0)\n",
      "Collecting huggingface-hub<1.0,>=0.16.4 (from transformers)\n",
      "  Downloading huggingface_hub-0.17.3-py3-none-any.whl.metadata (13 kB)\n",
      "Requirement already satisfied: charset-normalizer<4,>=2 in ./.venv/lib/python3.10/site-packages (from requests->transformers) (3.3.1)\n",
      "Requirement already satisfied: idna<4,>=2.5 in ./.venv/lib/python3.10/site-packages (from requests->transformers) (3.4)\n",
      "Requirement already satisfied: urllib3<3,>=1.21.1 in ./.venv/lib/python3.10/site-packages (from requests->transformers) (2.0.7)\n",
      "Requirement already satisfied: certifi>=2017.4.17 in ./.venv/lib/python3.10/site-packages (from requests->transformers) (2023.7.22)\n",
      "Downloading transformers-4.34.1-py3-none-any.whl (7.7 MB)\n",
      "\u001b[2K   \u001b[90m━━━━━━━━━━━━━━━━━━━━━━━━━━━━━━━━━━━━━━━━\u001b[0m \u001b[32m7.7/7.7 MB\u001b[0m \u001b[31m54.1 MB/s\u001b[0m eta \u001b[36m0:00:00\u001b[0m:00:01\u001b[0m00:01\u001b[0m\n",
      "\u001b[?25hDownloading regex-2023.10.3-cp310-cp310-manylinux_2_17_x86_64.manylinux2014_x86_64.whl (773 kB)\n",
      "\u001b[2K   \u001b[90m━━━━━━━━━━━━━━━━━━━━━━━━━━━━━━━━━━━━━━━━\u001b[0m \u001b[32m773.9/773.9 kB\u001b[0m \u001b[31m14.3 MB/s\u001b[0m eta \u001b[36m0:00:00\u001b[0m00:01\u001b[0m\n",
      "\u001b[?25hDownloading safetensors-0.4.0-cp310-cp310-manylinux_2_17_x86_64.manylinux2014_x86_64.whl (1.3 MB)\n",
      "\u001b[2K   \u001b[90m━━━━━━━━━━━━━━━━━━━━━━━━━━━━━━━━━━━━━━━━\u001b[0m \u001b[32m1.3/1.3 MB\u001b[0m \u001b[31m22.6 MB/s\u001b[0m eta \u001b[36m0:00:00\u001b[0m:00:01\u001b[0m\n",
      "\u001b[?25hDownloading tokenizers-0.14.1-cp310-cp310-manylinux_2_17_x86_64.manylinux2014_x86_64.whl (3.8 MB)\n",
      "\u001b[2K   \u001b[90m━━━━━━━━━━━━━━━━━━━━━━━━━━━━━━━━━━━━━━━━\u001b[0m \u001b[32m3.8/3.8 MB\u001b[0m \u001b[31m36.8 MB/s\u001b[0m eta \u001b[36m0:00:00\u001b[0m00:01\u001b[0m:00:01\u001b[0m\n",
      "\u001b[?25hDownloading huggingface_hub-0.17.3-py3-none-any.whl (295 kB)\n",
      "\u001b[2K   \u001b[90m━━━━━━━━━━━━━━━━━━━━━━━━━━━━━━━━━━━━━━━━\u001b[0m \u001b[32m295.0/295.0 kB\u001b[0m \u001b[31m7.6 MB/s\u001b[0m eta \u001b[36m0:00:00\u001b[0mta \u001b[36m0:00:01\u001b[0m\n",
      "\u001b[?25hInstalling collected packages: safetensors, regex, huggingface-hub, tokenizers, transformers\n",
      "  Attempting uninstall: huggingface-hub\n",
      "    Found existing installation: huggingface-hub 0.18.0\n",
      "    Uninstalling huggingface-hub-0.18.0:\n",
      "      Successfully uninstalled huggingface-hub-0.18.0\n",
      "Successfully installed huggingface-hub-0.17.3 regex-2023.10.3 safetensors-0.4.0 tokenizers-0.14.1 transformers-4.34.1\n",
      "Note: you may need to restart the kernel to use updated packages.\n"
     ]
    }
   ],
   "source": [
    "%pip install transformers"
   ]
  },
  {
   "cell_type": "code",
   "execution_count": 2,
   "metadata": {},
   "outputs": [
    {
     "name": "stdout",
     "output_type": "stream",
     "text": [
      "Requirement already satisfied: sentencepiece in ./.venv/lib/python3.10/site-packages (0.1.99)\n",
      "Note: you may need to restart the kernel to use updated packages.\n"
     ]
    }
   ],
   "source": [
    "%pip install sentencepiece"
   ]
  },
  {
   "cell_type": "code",
   "execution_count": 4,
   "metadata": {},
   "outputs": [
    {
     "name": "stdout",
     "output_type": "stream",
     "text": [
      "Looking in indexes: https://download.pytorch.org/whl/cu118\n",
      "Collecting torch\n",
      "  Downloading https://download.pytorch.org/whl/cu118/torch-2.1.0%2Bcu118-cp310-cp310-linux_x86_64.whl (2325.9 MB)\n",
      "\u001b[2K     \u001b[90m━━━━━━━━━━━━━━━━━━━━━━━━━━━━━━━━━━━━━━━━\u001b[0m \u001b[32m2.3/2.3 GB\u001b[0m \u001b[31m615.0 kB/s\u001b[0m eta \u001b[36m0:00:00\u001b[0m00:01\u001b[0m0:01\u001b[0mm\n",
      "\u001b[?25hCollecting torchvision\n",
      "  Downloading https://download.pytorch.org/whl/cu118/torchvision-0.16.0%2Bcu118-cp310-cp310-linux_x86_64.whl (6.2 MB)\n",
      "\u001b[2K     \u001b[90m━━━━━━━━━━━━━━━━━━━━━━━━━━━━━━━━━━━━━━━━\u001b[0m \u001b[32m6.2/6.2 MB\u001b[0m \u001b[31m28.1 MB/s\u001b[0m eta \u001b[36m0:00:00\u001b[0m00:01\u001b[0m00:01\u001b[0m\n",
      "\u001b[?25hCollecting torchaudio\n",
      "  Downloading https://download.pytorch.org/whl/cu118/torchaudio-2.1.0%2Bcu118-cp310-cp310-linux_x86_64.whl (3.2 MB)\n",
      "\u001b[2K     \u001b[90m━━━━━━━━━━━━━━━━━━━━━━━━━━━━━━━━━━━━━━━━\u001b[0m \u001b[32m3.2/3.2 MB\u001b[0m \u001b[31m37.6 MB/s\u001b[0m eta \u001b[36m0:00:00\u001b[0m:00:01\u001b[0m\n",
      "\u001b[?25hRequirement already satisfied: filelock in ./.venv/lib/python3.10/site-packages (from torch) (3.12.4)\n",
      "Requirement already satisfied: typing-extensions in ./.venv/lib/python3.10/site-packages (from torch) (4.8.0)\n",
      "Collecting sympy (from torch)\n",
      "  Downloading https://download.pytorch.org/whl/sympy-1.12-py3-none-any.whl (5.7 MB)\n",
      "\u001b[2K     \u001b[90m━━━━━━━━━━━━━━━━━━━━━━━━━━━━━━━━━━━━━━━━\u001b[0m \u001b[32m5.7/5.7 MB\u001b[0m \u001b[31m40.2 MB/s\u001b[0m eta \u001b[36m0:00:00\u001b[0m00:01\u001b[0m00:01\u001b[0m\n",
      "\u001b[?25hCollecting networkx (from torch)\n",
      "  Downloading https://download.pytorch.org/whl/networkx-3.0-py3-none-any.whl (2.0 MB)\n",
      "\u001b[2K     \u001b[90m━━━━━━━━━━━━━━━━━━━━━━━━━━━━━━━━━━━━━━━━\u001b[0m \u001b[32m2.0/2.0 MB\u001b[0m \u001b[31m28.8 MB/s\u001b[0m eta \u001b[36m0:00:00\u001b[0m:00:01\u001b[0m\n",
      "\u001b[?25hRequirement already satisfied: jinja2 in ./.venv/lib/python3.10/site-packages (from torch) (3.1.2)\n",
      "Requirement already satisfied: fsspec in ./.venv/lib/python3.10/site-packages (from torch) (2023.10.0)\n",
      "Collecting triton==2.1.0 (from torch)\n",
      "  Downloading https://download.pytorch.org/whl/triton-2.1.0-0-cp310-cp310-manylinux2014_x86_64.manylinux_2_17_x86_64.whl (89.2 MB)\n",
      "\u001b[2K     \u001b[90m━━━━━━━━━━━━━━━━━━━━━━━━━━━━━━━━━━━━━━━━\u001b[0m \u001b[32m89.2/89.2 MB\u001b[0m \u001b[31m18.8 MB/s\u001b[0m eta \u001b[36m0:00:00\u001b[0m00:01\u001b[0m00:01\u001b[0m\n",
      "\u001b[?25hRequirement already satisfied: numpy in ./.venv/lib/python3.10/site-packages (from torchvision) (1.26.1)\n",
      "Requirement already satisfied: requests in ./.venv/lib/python3.10/site-packages (from torchvision) (2.31.0)\n",
      "Collecting pillow!=8.3.*,>=5.3.0 (from torchvision)\n",
      "  Downloading https://download.pytorch.org/whl/Pillow-9.3.0-cp310-cp310-manylinux_2_17_x86_64.manylinux2014_x86_64.whl (3.2 MB)\n",
      "\u001b[2K     \u001b[90m━━━━━━━━━━━━━━━━━━━━━━━━━━━━━━━━━━━━━━━━\u001b[0m \u001b[32m3.2/3.2 MB\u001b[0m \u001b[31m39.6 MB/s\u001b[0m eta \u001b[36m0:00:00\u001b[0m:00:01\u001b[0m\n",
      "\u001b[?25hRequirement already satisfied: MarkupSafe>=2.0 in ./.venv/lib/python3.10/site-packages (from jinja2->torch) (2.1.3)\n",
      "Requirement already satisfied: charset-normalizer<4,>=2 in ./.venv/lib/python3.10/site-packages (from requests->torchvision) (3.3.1)\n",
      "Requirement already satisfied: idna<4,>=2.5 in ./.venv/lib/python3.10/site-packages (from requests->torchvision) (3.4)\n",
      "Requirement already satisfied: urllib3<3,>=1.21.1 in ./.venv/lib/python3.10/site-packages (from requests->torchvision) (2.0.7)\n",
      "Requirement already satisfied: certifi>=2017.4.17 in ./.venv/lib/python3.10/site-packages (from requests->torchvision) (2023.7.22)\n",
      "Collecting mpmath>=0.19 (from sympy->torch)\n",
      "  Downloading https://download.pytorch.org/whl/mpmath-1.3.0-py3-none-any.whl (536 kB)\n",
      "\u001b[2K     \u001b[90m━━━━━━━━━━━━━━━━━━━━━━━━━━━━━━━━━━━━━━\u001b[0m \u001b[32m536.2/536.2 kB\u001b[0m \u001b[31m11.3 MB/s\u001b[0m eta \u001b[36m0:00:00\u001b[0m00:01\u001b[0m\n",
      "\u001b[?25hInstalling collected packages: mpmath, triton, sympy, pillow, networkx, torch, torchvision, torchaudio\n",
      "Successfully installed mpmath-1.3.0 networkx-3.0 pillow-9.3.0 sympy-1.12 torch-2.1.0+cu118 torchaudio-2.1.0+cu118 torchvision-0.16.0+cu118 triton-2.1.0\n",
      "Note: you may need to restart the kernel to use updated packages.\n"
     ]
    }
   ],
   "source": [
    "%pip install torch torchvision torchaudio --index-url https://download.pytorch.org/whl/cu118"
   ]
  },
  {
   "cell_type": "code",
   "execution_count": 1,
   "metadata": {},
   "outputs": [
    {
     "name": "stderr",
     "output_type": "stream",
     "text": [
      "/workspaces/falcon-main/.venv/lib/python3.10/site-packages/tqdm/auto.py:21: TqdmWarning: IProgress not found. Please update jupyter and ipywidgets. See https://ipywidgets.readthedocs.io/en/stable/user_install.html\n",
      "  from .autonotebook import tqdm as notebook_tqdm\n"
     ]
    }
   ],
   "source": [
    "from transformers import SpeechT5Processor, SpeechT5ForTextToSpeech"
   ]
  },
  {
   "cell_type": "code",
   "execution_count": 2,
   "metadata": {},
   "outputs": [],
   "source": [
    "processor = SpeechT5Processor.from_pretrained(\"microsoft/speecht5_tts\")\n",
    "model = SpeechT5ForTextToSpeech.from_pretrained(\"microsoft/speecht5_tts\")"
   ]
  },
  {
   "cell_type": "code",
   "execution_count": 4,
   "metadata": {},
   "outputs": [
    {
     "name": "stdout",
     "output_type": "stream",
     "text": [
      "{'input_ids': tensor([[ 4, 51,  8,  9, 31,  6,  4, 17,  8, 16,  9,  6,  4,  6, 11,  5,  4, 14,\n",
      "          7, 22, 12, 23,  4, 18,  7, 28,  5,  4,  6, 11,  5,  4, 14,  7, 22, 12,\n",
      "          4, 17,  8, 16,  9,  6, 26,  2]]), 'attention_mask': tensor([[1, 1, 1, 1, 1, 1, 1, 1, 1, 1, 1, 1, 1, 1, 1, 1, 1, 1, 1, 1, 1, 1, 1, 1,\n",
      "         1, 1, 1, 1, 1, 1, 1, 1, 1, 1, 1, 1, 1, 1, 1, 1, 1, 1, 1, 1]])}\n"
     ]
    }
   ],
   "source": [
    "inputs = processor(text=\"Don't count the days, make the days count.\", return_tensors=\"pt\")\n",
    "\n",
    "print (inputs)"
   ]
  },
  {
   "cell_type": "code",
   "execution_count": 5,
   "metadata": {},
   "outputs": [
    {
     "name": "stdout",
     "output_type": "stream",
     "text": [
      "Collecting datasets\n",
      "  Downloading datasets-2.14.6-py3-none-any.whl.metadata (19 kB)\n",
      "Requirement already satisfied: numpy>=1.17 in ./.venv/lib/python3.10/site-packages (from datasets) (1.26.1)\n",
      "Collecting pyarrow>=8.0.0 (from datasets)\n",
      "  Downloading pyarrow-13.0.0-cp310-cp310-manylinux_2_28_x86_64.whl.metadata (3.0 kB)\n",
      "Collecting dill<0.3.8,>=0.3.0 (from datasets)\n",
      "  Downloading dill-0.3.7-py3-none-any.whl.metadata (9.9 kB)\n",
      "Collecting pandas (from datasets)\n",
      "  Downloading pandas-2.1.2-cp310-cp310-manylinux_2_17_x86_64.manylinux2014_x86_64.whl.metadata (18 kB)\n",
      "Requirement already satisfied: requests>=2.19.0 in ./.venv/lib/python3.10/site-packages (from datasets) (2.31.0)\n",
      "Requirement already satisfied: tqdm>=4.62.1 in ./.venv/lib/python3.10/site-packages (from datasets) (4.66.1)\n",
      "Collecting xxhash (from datasets)\n",
      "  Downloading xxhash-3.4.1-cp310-cp310-manylinux_2_17_x86_64.manylinux2014_x86_64.whl.metadata (12 kB)\n",
      "Collecting multiprocess (from datasets)\n",
      "  Downloading multiprocess-0.70.15-py310-none-any.whl.metadata (7.2 kB)\n",
      "Requirement already satisfied: fsspec<=2023.10.0,>=2023.1.0 in ./.venv/lib/python3.10/site-packages (from fsspec[http]<=2023.10.0,>=2023.1.0->datasets) (2023.10.0)\n",
      "Requirement already satisfied: aiohttp in ./.venv/lib/python3.10/site-packages (from datasets) (3.8.6)\n",
      "Requirement already satisfied: huggingface-hub<1.0.0,>=0.14.0 in ./.venv/lib/python3.10/site-packages (from datasets) (0.17.3)\n",
      "Requirement already satisfied: packaging in ./.venv/lib/python3.10/site-packages (from datasets) (23.2)\n",
      "Requirement already satisfied: pyyaml>=5.1 in ./.venv/lib/python3.10/site-packages (from datasets) (6.0.1)\n",
      "Requirement already satisfied: attrs>=17.3.0 in ./.venv/lib/python3.10/site-packages (from aiohttp->datasets) (23.1.0)\n",
      "Requirement already satisfied: charset-normalizer<4.0,>=2.0 in ./.venv/lib/python3.10/site-packages (from aiohttp->datasets) (3.3.1)\n",
      "Requirement already satisfied: multidict<7.0,>=4.5 in ./.venv/lib/python3.10/site-packages (from aiohttp->datasets) (6.0.4)\n",
      "Requirement already satisfied: async-timeout<5.0,>=4.0.0a3 in ./.venv/lib/python3.10/site-packages (from aiohttp->datasets) (4.0.3)\n",
      "Requirement already satisfied: yarl<2.0,>=1.0 in ./.venv/lib/python3.10/site-packages (from aiohttp->datasets) (1.9.2)\n",
      "Requirement already satisfied: frozenlist>=1.1.1 in ./.venv/lib/python3.10/site-packages (from aiohttp->datasets) (1.4.0)\n",
      "Requirement already satisfied: aiosignal>=1.1.2 in ./.venv/lib/python3.10/site-packages (from aiohttp->datasets) (1.3.1)\n",
      "Requirement already satisfied: filelock in ./.venv/lib/python3.10/site-packages (from huggingface-hub<1.0.0,>=0.14.0->datasets) (3.12.4)\n",
      "Requirement already satisfied: typing-extensions>=3.7.4.3 in ./.venv/lib/python3.10/site-packages (from huggingface-hub<1.0.0,>=0.14.0->datasets) (4.8.0)\n",
      "Requirement already satisfied: idna<4,>=2.5 in ./.venv/lib/python3.10/site-packages (from requests>=2.19.0->datasets) (3.4)\n",
      "Requirement already satisfied: urllib3<3,>=1.21.1 in ./.venv/lib/python3.10/site-packages (from requests>=2.19.0->datasets) (2.0.7)\n",
      "Requirement already satisfied: certifi>=2017.4.17 in ./.venv/lib/python3.10/site-packages (from requests>=2.19.0->datasets) (2023.7.22)\n",
      "Requirement already satisfied: python-dateutil>=2.8.2 in ./.venv/lib/python3.10/site-packages (from pandas->datasets) (2.8.2)\n",
      "Collecting pytz>=2020.1 (from pandas->datasets)\n",
      "  Downloading pytz-2023.3.post1-py2.py3-none-any.whl.metadata (22 kB)\n",
      "Collecting tzdata>=2022.1 (from pandas->datasets)\n",
      "  Downloading tzdata-2023.3-py2.py3-none-any.whl (341 kB)\n",
      "\u001b[2K     \u001b[90m━━━━━━━━━━━━━━━━━━━━━━━━━━━━━━━━━━━━━━━\u001b[0m \u001b[32m341.8/341.8 kB\u001b[0m \u001b[31m6.6 MB/s\u001b[0m eta \u001b[36m0:00:00\u001b[0m00:01\u001b[0m\n",
      "\u001b[?25hRequirement already satisfied: six>=1.5 in ./.venv/lib/python3.10/site-packages (from python-dateutil>=2.8.2->pandas->datasets) (1.16.0)\n",
      "Downloading datasets-2.14.6-py3-none-any.whl (493 kB)\n",
      "\u001b[2K   \u001b[90m━━━━━━━━━━━━━━━━━━━━━━━━━━━━━━━━━━━━━━━━\u001b[0m \u001b[32m493.7/493.7 kB\u001b[0m \u001b[31m9.1 MB/s\u001b[0m eta \u001b[36m0:00:00\u001b[0m:00:01\u001b[0m\n",
      "\u001b[?25hDownloading dill-0.3.7-py3-none-any.whl (115 kB)\n",
      "\u001b[2K   \u001b[90m━━━━━━━━━━━━━━━━━━━━━━━━━━━━━━━━━━━━━━━━\u001b[0m \u001b[32m115.3/115.3 kB\u001b[0m \u001b[31m3.0 MB/s\u001b[0m eta \u001b[36m0:00:00\u001b[0m:00:01\u001b[0m\n",
      "\u001b[?25hDownloading pyarrow-13.0.0-cp310-cp310-manylinux_2_28_x86_64.whl (40.0 MB)\n",
      "\u001b[2K   \u001b[90m━━━━━━━━━━━━━━━━━━━━━━━━━━━━━━━━━━━━━━━━\u001b[0m \u001b[32m40.0/40.0 MB\u001b[0m \u001b[31m32.6 MB/s\u001b[0m eta \u001b[36m0:00:00\u001b[0m:00:01\u001b[0m00:01\u001b[0m\n",
      "\u001b[?25hDownloading multiprocess-0.70.15-py310-none-any.whl (134 kB)\n",
      "\u001b[2K   \u001b[90m━━━━━━━━━━━━━━━━━━━━━━━━━━━━━━━━━━━━━━━━\u001b[0m \u001b[32m134.8/134.8 kB\u001b[0m \u001b[31m3.3 MB/s\u001b[0m eta \u001b[36m0:00:00\u001b[0m:00:01\u001b[0m\n",
      "\u001b[?25hDownloading pandas-2.1.2-cp310-cp310-manylinux_2_17_x86_64.manylinux2014_x86_64.whl (12.3 MB)\n",
      "\u001b[2K   \u001b[90m━━━━━━━━━━━━━━━━━━━━━━━━━━━━━━━━━━━━━━━━\u001b[0m \u001b[32m12.3/12.3 MB\u001b[0m \u001b[31m58.6 MB/s\u001b[0m eta \u001b[36m0:00:00\u001b[0m:00:01\u001b[0m0:01\u001b[0m\n",
      "\u001b[?25hDownloading xxhash-3.4.1-cp310-cp310-manylinux_2_17_x86_64.manylinux2014_x86_64.whl (194 kB)\n",
      "\u001b[2K   \u001b[90m━━━━━━━━━━━━━━━━━━━━━━━━━━━━━━━━━━━━━━━━\u001b[0m \u001b[32m194.1/194.1 kB\u001b[0m \u001b[31m5.0 MB/s\u001b[0m eta \u001b[36m0:00:00\u001b[0mta \u001b[36m0:00:01\u001b[0m\n",
      "\u001b[?25hDownloading pytz-2023.3.post1-py2.py3-none-any.whl (502 kB)\n",
      "\u001b[2K   \u001b[90m━━━━━━━━━━━━━━━━━━━━━━━━━━━━━━━━━━━━━━━━\u001b[0m \u001b[32m502.5/502.5 kB\u001b[0m \u001b[31m11.5 MB/s\u001b[0m eta \u001b[36m0:00:00\u001b[0m00:01\u001b[0m\n",
      "\u001b[?25hInstalling collected packages: pytz, xxhash, tzdata, pyarrow, dill, pandas, multiprocess, datasets\n",
      "Successfully installed datasets-2.14.6 dill-0.3.7 multiprocess-0.70.15 pandas-2.1.2 pyarrow-13.0.0 pytz-2023.3.post1 tzdata-2023.3 xxhash-3.4.1\n",
      "Note: you may need to restart the kernel to use updated packages.\n"
     ]
    }
   ],
   "source": [
    "# Let’s load such a speaker embedding from a dataset on the Hub. \n",
    "\n",
    "# the embeddings were obtained from the CMU ARCTIC dataset: \n",
    "# http://www.festvox.org/cmu_arctic/\n",
    "\n",
    "# using this script: \n",
    "# https://huggingface.co/mechanicalsea/speecht5-vc/blob/main/manifest/utils/prep_cmu_arctic_spkemb.py\n",
    "\n",
    "# but any X-Vector embedding should work.\n",
    "\n",
    "%pip install datasets"
   ]
  },
  {
   "cell_type": "code",
   "execution_count": 5,
   "metadata": {},
   "outputs": [],
   "source": [
    "from datasets import load_dataset"
   ]
  },
  {
   "cell_type": "code",
   "execution_count": 6,
   "metadata": {},
   "outputs": [],
   "source": [
    "embeddings_dataset = load_dataset(\"Matthijs/cmu-arctic-xvectors\", split=\"validation\")"
   ]
  },
  {
   "cell_type": "code",
   "execution_count": 7,
   "metadata": {},
   "outputs": [],
   "source": [
    "import torch"
   ]
  },
  {
   "cell_type": "code",
   "execution_count": 8,
   "metadata": {},
   "outputs": [],
   "source": [
    "# The speaker embedding is a tensor of shape (1, 512). \n",
    "# This particular speaker embedding describes a female voice.\n",
    "\n",
    "speaker_embeddings = torch.tensor(embeddings_dataset[7306][\"xvector\"]).unsqueeze(0)"
   ]
  },
  {
   "cell_type": "code",
   "execution_count": 9,
   "metadata": {},
   "outputs": [
    {
     "name": "stdout",
     "output_type": "stream",
     "text": [
      "tensor([[ 4, 51,  8,  9, 31,  6,  4, 17,  8, 16,  9,  6,  4,  6, 11,  5,  4, 14,\n",
      "          7, 22, 12, 23,  4, 18,  7, 28,  5,  4,  6, 11,  5,  4, 14,  7, 22, 12,\n",
      "          4, 17,  8, 16,  9,  6, 26,  2]])\n"
     ]
    }
   ],
   "source": [
    "print(inputs[\"input_ids\"])"
   ]
  },
  {
   "cell_type": "code",
   "execution_count": 10,
   "metadata": {},
   "outputs": [],
   "source": [
    "# At this point we already have enough inputs to generate a log mel spectrogram as an output, \n",
    "# you can do it like this:\n",
    "\n",
    "spectrogram = model.generate_speech(inputs[\"input_ids\"], speaker_embeddings)"
   ]
  },
  {
   "cell_type": "code",
   "execution_count": 11,
   "metadata": {},
   "outputs": [
    {
     "name": "stdout",
     "output_type": "stream",
     "text": [
      "tensor([[-2.8253, -2.9491, -3.0190,  ..., -3.7977, -3.8667, -4.0556],\n",
      "        [-2.4929, -2.5649, -2.5847,  ..., -3.2225, -3.2683, -3.5373],\n",
      "        [-1.7768, -1.7941, -1.7470,  ..., -2.2185, -2.3456, -2.5630],\n",
      "        ...,\n",
      "        [-2.5817, -2.7286, -2.7877,  ..., -3.8112, -3.8629, -4.1182],\n",
      "        [-2.6164, -2.7681, -2.8311,  ..., -3.8343, -3.8884, -4.1431],\n",
      "        [-2.6314, -2.7866, -2.8551,  ..., -3.8361, -3.8854, -4.1371]])\n"
     ]
    }
   ],
   "source": [
    "print(spectrogram)\n",
    "\n",
    "# This outputs a tensor of shape (140, 80) containing a log mel spectrogram.\n",
    "\n",
    "# it may vary between runs as the speech decoder pre-net always applies dropout to the input sequence\n",
    "\n",
    "# This adds a bit of random variability to the generated speech\n",
    "\n",
    "# if we are looking to generate speech waveform, we need to specify a vocoder to use for the spectrogram to waveform conversion\n",
    "\n",
    "# Conveniently, 🤗 Transformers offers a vocoder based on HiFi-GAN\n",
    "\n",
    "# HiFi-GAN is a state-of-the-art generative adversarial network (GAN) designed for high-fidelity speech synthesis. \n",
    "# It is capable of generating high-quality and realistic audio waveforms from spectrogram inputs."
   ]
  },
  {
   "cell_type": "code",
   "execution_count": 12,
   "metadata": {},
   "outputs": [],
   "source": [
    "from transformers import SpeechT5HifiGan"
   ]
  },
  {
   "cell_type": "code",
   "execution_count": 13,
   "metadata": {},
   "outputs": [
    {
     "name": "stderr",
     "output_type": "stream",
     "text": [
      "Downloading (…)lve/main/config.json: 100%|██████████| 636/636 [00:00<00:00, 3.44MB/s]\n",
      "Downloading pytorch_model.bin: 100%|██████████| 50.7M/50.7M [00:00<00:00, 252MB/s]\n"
     ]
    }
   ],
   "source": [
    "vocoder = SpeechT5HifiGan.from_pretrained(\"microsoft/speecht5_hifigan\")"
   ]
  },
  {
   "cell_type": "code",
   "execution_count": 14,
   "metadata": {},
   "outputs": [],
   "source": [
    "# Now all you need to do is pass it as an argument when generating speech, \n",
    "# and the outputs will be automatically converted to the speech waveform.\n",
    "\n",
    "speech = model.generate_speech(inputs[\"input_ids\"], speaker_embeddings, vocoder=vocoder)"
   ]
  },
  {
   "cell_type": "code",
   "execution_count": 15,
   "metadata": {},
   "outputs": [],
   "source": [
    "from IPython.display import Audio"
   ]
  },
  {
   "cell_type": "code",
   "execution_count": 16,
   "metadata": {},
   "outputs": [
    {
     "data": {
      "text/html": [
       "\n",
       "                <audio  controls=\"controls\" >\n",
       "                    <source src=\"data:audio/wav;base64,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\" type=\"audio/wav\" />\n",
       "                    Your browser does not support the audio element.\n",
       "                </audio>\n",
       "              "
      ],
      "text/plain": [
       "<IPython.lib.display.Audio object>"
      ]
     },
     "execution_count": 16,
     "metadata": {},
     "output_type": "execute_result"
    }
   ],
   "source": [
    "\n",
    "Audio(speech, rate=16000)"
   ]
  }
 ],
 "metadata": {
  "kernelspec": {
   "display_name": "Python 3 (ipykernel)",
   "language": "python",
   "name": "python3"
  },
  "language_info": {
   "codemirror_mode": {
    "name": "ipython",
    "version": 3
   },
   "file_extension": ".py",
   "mimetype": "text/x-python",
   "name": "python",
   "nbconvert_exporter": "python",
   "pygments_lexer": "ipython3",
   "version": "3.10.8"
  },
  "orig_nbformat": 4
 },
 "nbformat": 4,
 "nbformat_minor": 2
}
